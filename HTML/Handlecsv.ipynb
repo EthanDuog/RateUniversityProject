{
 "cells": [
  {
   "cell_type": "code",
   "execution_count": 1,
   "metadata": {},
   "outputs": [],
   "source": [
    "import requests\n",
    "import pandas as pd\n",
    "from bs4 import BeautifulSoup\n",
    "import json\n",
    "import datetime\n",
    "\n",
    "pd.set_option('display.max_rows', None)\n",
    "pd.set_option('display.max_columns', None)"
   ]
  },
  {
   "cell_type": "code",
   "execution_count": 50,
   "metadata": {},
   "outputs": [],
   "source": [
    "finalversionx2 = pd.read_csv('finalversionx2.csv')"
   ]
  },
  {
   "cell_type": "code",
   "execution_count": 65,
   "metadata": {},
   "outputs": [],
   "source": [
    "finalversionx2_copy = finalversionx2.copy()\n"
   ]
  },
  {
   "cell_type": "code",
   "execution_count": 60,
   "metadata": {},
   "outputs": [
    {
     "data": {
      "text/plain": [
       "1258"
      ]
     },
     "execution_count": 60,
     "metadata": {},
     "output_type": "execute_result"
    }
   ],
   "source": [
    "count_22 = (finalversionx2_copy['date'].astype(str).str.endswith('23')).sum()\n",
    "count_22"
   ]
  },
  {
   "cell_type": "code",
   "execution_count": 66,
   "metadata": {},
   "outputs": [],
   "source": [
    "finalversionx2_copy['date'] = finalversionx2_copy['date'].astype(str)\n",
    "\n",
    "def update_date(date_str):\n",
    "    if date_str.endswith(\", 20\") and date_str[:3] in [\"Jan\", \"Feb\", \"Mar\",\"Apr\",\"May\", \"Jun\", \"Jul\", \"Aug\"]:\n",
    "        return date_str + \"23\"\n",
    "    elif date_str.endswith(\", 20\") and date_str[:3] in [\"Sep\", \"Oct\", \"Nov\",\"Dec\"]:\n",
    "        return date_str + \"22\"\n",
    "    else:\n",
    "        return date_str\n",
    "\n",
    "finalversionx2_copy['date'] = finalversionx2_copy['date'].apply(update_date)\n",
    "\n",
    "# Sort the DataFrame by the last 4 digits of the 'date' column in descending order\n",
    "\n",
    "\n",
    "# Create a new column with the last 4 characters of the 'date' column\n",
    "finalversionx2_copy['last_4_digits'] = finalversionx2_copy['date'].str[-4:]\n",
    "\n",
    "# Sort the DataFrame based on the 'last_4_digits' column in descending order\n",
    "finalversionx2_copy.sort_values(by='last_4_digits', ascending=False, na_position='last', inplace=True)\n",
    "\n",
    "# Reset the DataFrame index after sorting\n",
    "finalversionx2_copy.reset_index(drop=True, inplace=True)\n",
    "\n",
    "# Drop the temporary 'last_4_digits' column if you don't need it anymore\n",
    "finalversionx2_copy.drop(columns=['last_4_digits'], inplace=True)\n",
    "\n"
   ]
  },
  {
   "cell_type": "code",
   "execution_count": 67,
   "metadata": {},
   "outputs": [],
   "source": []
  },
  {
   "cell_type": "code",
   "execution_count": null,
   "metadata": {},
   "outputs": [],
   "source": []
  }
 ],
 "metadata": {
  "kernelspec": {
   "display_name": "Python 3",
   "language": "python",
   "name": "python3"
  },
  "language_info": {
   "codemirror_mode": {
    "name": "ipython",
    "version": 3
   },
   "file_extension": ".py",
   "mimetype": "text/x-python",
   "name": "python",
   "nbconvert_exporter": "python",
   "pygments_lexer": "ipython3",
   "version": "3.9.2"
  },
  "orig_nbformat": 4
 },
 "nbformat": 4,
 "nbformat_minor": 2
}
